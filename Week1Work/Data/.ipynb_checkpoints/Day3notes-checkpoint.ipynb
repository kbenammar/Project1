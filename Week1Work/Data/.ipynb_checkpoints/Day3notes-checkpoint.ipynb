{
 "cells": [
  {
   "cell_type": "code",
   "execution_count": 1,
   "id": "3ba52446",
   "metadata": {},
   "outputs": [],
   "source": [
    "import pandas as pd\n"
   ]
  },
  {
   "cell_type": "code",
   "execution_count": 2,
   "id": "e86cd5ca",
   "metadata": {},
   "outputs": [],
   "source": [
    "airbnb=pd.read_csv(\"listings.csv\")"
   ]
  },
  {
   "cell_type": "code",
   "execution_count": 3,
   "id": "3a0d02c8",
   "metadata": {},
   "outputs": [
    {
     "data": {
      "text/plain": [
       "145.0"
      ]
     },
     "execution_count": 3,
     "metadata": {},
     "output_type": "execute_result"
    }
   ],
   "source": [
    "#number in the middle of the list\n",
    "airbnb.price.median()"
   ]
  },
  {
   "cell_type": "code",
   "execution_count": 4,
   "id": "503a6afa",
   "metadata": {},
   "outputs": [
    {
     "data": {
      "text/plain": [
       "174.6139218422889"
      ]
     },
     "execution_count": 4,
     "metadata": {},
     "output_type": "execute_result"
    }
   ],
   "source": [
    "airbnb['price'].mean()"
   ]
  },
  {
   "cell_type": "code",
   "execution_count": 5,
   "id": "da3cf705",
   "metadata": {},
   "outputs": [
    {
     "data": {
      "text/plain": [
       "0    150\n",
       "Name: price, dtype: int64"
      ]
     },
     "execution_count": 5,
     "metadata": {},
     "output_type": "execute_result"
    }
   ],
   "source": [
    "#number appearing the most often\n",
    "airbnb.price.mode()"
   ]
  },
  {
   "cell_type": "code",
   "execution_count": 7,
   "id": "70bcb5cb",
   "metadata": {},
   "outputs": [
    {
     "data": {
      "text/plain": [
       "0"
      ]
     },
     "execution_count": 7,
     "metadata": {},
     "output_type": "execute_result"
    }
   ],
   "source": [
    "airbnb.price.min()"
   ]
  },
  {
   "cell_type": "code",
   "execution_count": 8,
   "id": "c7d97e59",
   "metadata": {},
   "outputs": [
    {
     "data": {
      "text/plain": [
       "8812"
      ]
     },
     "execution_count": 8,
     "metadata": {},
     "output_type": "execute_result"
    }
   ],
   "source": [
    "airbnb.price.max()"
   ]
  },
  {
   "cell_type": "code",
   "execution_count": 9,
   "id": "8e4a37f1",
   "metadata": {},
   "outputs": [
    {
     "data": {
      "text/plain": [
       "40057.149992852464"
      ]
     },
     "execution_count": 9,
     "metadata": {},
     "output_type": "execute_result"
    }
   ],
   "source": [
    "#\n",
    "airbnb.price.var()"
   ]
  },
  {
   "cell_type": "code",
   "execution_count": 10,
   "id": "88eccc44",
   "metadata": {},
   "outputs": [
    {
     "data": {
      "text/plain": [
       "200.14282398540414"
      ]
     },
     "execution_count": 10,
     "metadata": {},
     "output_type": "execute_result"
    }
   ],
   "source": [
    "airbnb.price.std()"
   ]
  },
  {
   "cell_type": "code",
   "execution_count": 11,
   "id": "1b11651d",
   "metadata": {},
   "outputs": [
    {
     "data": {
      "text/plain": [
       "1000887"
      ]
     },
     "execution_count": 11,
     "metadata": {},
     "output_type": "execute_result"
    }
   ],
   "source": [
    "airbnb.price.sum()"
   ]
  },
  {
   "cell_type": "code",
   "execution_count": 13,
   "id": "743a63bb",
   "metadata": {},
   "outputs": [
    {
     "data": {
      "text/plain": [
       "145.0"
      ]
     },
     "execution_count": 13,
     "metadata": {},
     "output_type": "execute_result"
    }
   ],
   "source": [
    "#quartiles\n",
    "airbnb.price.quantile()"
   ]
  },
  {
   "cell_type": "code",
   "execution_count": 16,
   "id": "449f76a4",
   "metadata": {},
   "outputs": [
    {
     "ename": "AttributeError",
     "evalue": "'DataFrame' object has no attribute 'time'",
     "output_type": "error",
     "traceback": [
      "\u001b[1;31m---------------------------------------------------------------------------\u001b[0m",
      "\u001b[1;31mAttributeError\u001b[0m                            Traceback (most recent call last)",
      "Input \u001b[1;32mIn [16]\u001b[0m, in \u001b[0;36m<cell line: 2>\u001b[1;34m()\u001b[0m\n\u001b[0;32m      1\u001b[0m \u001b[38;5;66;03m#also for dates\u001b[39;00m\n\u001b[1;32m----> 2\u001b[0m \u001b[43mairbnb\u001b[49m\u001b[38;5;241;43m.\u001b[39;49m\u001b[43mtime\u001b[49m\u001b[38;5;241m.\u001b[39mmin()\n",
      "File \u001b[1;32m~\\anaconda3\\lib\\site-packages\\pandas\\core\\generic.py:5575\u001b[0m, in \u001b[0;36mNDFrame.__getattr__\u001b[1;34m(self, name)\u001b[0m\n\u001b[0;32m   5568\u001b[0m \u001b[38;5;28;01mif\u001b[39;00m (\n\u001b[0;32m   5569\u001b[0m     name \u001b[38;5;129;01mnot\u001b[39;00m \u001b[38;5;129;01min\u001b[39;00m \u001b[38;5;28mself\u001b[39m\u001b[38;5;241m.\u001b[39m_internal_names_set\n\u001b[0;32m   5570\u001b[0m     \u001b[38;5;129;01mand\u001b[39;00m name \u001b[38;5;129;01mnot\u001b[39;00m \u001b[38;5;129;01min\u001b[39;00m \u001b[38;5;28mself\u001b[39m\u001b[38;5;241m.\u001b[39m_metadata\n\u001b[0;32m   5571\u001b[0m     \u001b[38;5;129;01mand\u001b[39;00m name \u001b[38;5;129;01mnot\u001b[39;00m \u001b[38;5;129;01min\u001b[39;00m \u001b[38;5;28mself\u001b[39m\u001b[38;5;241m.\u001b[39m_accessors\n\u001b[0;32m   5572\u001b[0m     \u001b[38;5;129;01mand\u001b[39;00m \u001b[38;5;28mself\u001b[39m\u001b[38;5;241m.\u001b[39m_info_axis\u001b[38;5;241m.\u001b[39m_can_hold_identifiers_and_holds_name(name)\n\u001b[0;32m   5573\u001b[0m ):\n\u001b[0;32m   5574\u001b[0m     \u001b[38;5;28;01mreturn\u001b[39;00m \u001b[38;5;28mself\u001b[39m[name]\n\u001b[1;32m-> 5575\u001b[0m \u001b[38;5;28;01mreturn\u001b[39;00m \u001b[38;5;28;43mobject\u001b[39;49m\u001b[38;5;241;43m.\u001b[39;49m\u001b[38;5;21;43m__getattribute__\u001b[39;49m\u001b[43m(\u001b[49m\u001b[38;5;28;43mself\u001b[39;49m\u001b[43m,\u001b[49m\u001b[43m \u001b[49m\u001b[43mname\u001b[49m\u001b[43m)\u001b[49m\n",
      "\u001b[1;31mAttributeError\u001b[0m: 'DataFrame' object has no attribute 'time'"
     ]
    }
   ],
   "source": [
    "#also for dates but has to be a dtype 'datetime'\n",
    "airbnb.date.min()"
   ]
  },
  {
   "cell_type": "code",
   "execution_count": null,
   "id": "6d12bf43",
   "metadata": {},
   "outputs": [],
   "source": [
    "#utiliser une fonction sur une ou plusieurs colonnes\n",
    "airbnb[['price', 'price_cents']].agg(fonction)"
   ]
  },
  {
   "cell_type": "code",
   "execution_count": 17,
   "id": "65741a40",
   "metadata": {},
   "outputs": [
    {
     "data": {
      "text/plain": [
       "0            49\n",
       "1           155\n",
       "2           289\n",
       "3           364\n",
       "4           419\n",
       "         ...   \n",
       "5727    1000320\n",
       "5728    1000526\n",
       "5729    1000707\n",
       "5730    1000797\n",
       "5731    1000887\n",
       "Name: price, Length: 5732, dtype: int64"
      ]
     },
     "execution_count": 17,
     "metadata": {},
     "output_type": "execute_result"
    }
   ],
   "source": [
    "#cummulative sum\n",
    "airbnb.price.cumsum()"
   ]
  },
  {
   "cell_type": "code",
   "execution_count": 18,
   "id": "f0fcf1fa",
   "metadata": {},
   "outputs": [
    {
     "data": {
      "text/plain": [
       "0       49\n",
       "1       49\n",
       "2       49\n",
       "3       49\n",
       "4       49\n",
       "        ..\n",
       "5727     0\n",
       "5728     0\n",
       "5729     0\n",
       "5730     0\n",
       "5731     0\n",
       "Name: price, Length: 5732, dtype: int64"
      ]
     },
     "execution_count": 18,
     "metadata": {},
     "output_type": "execute_result"
    }
   ],
   "source": [
    "airbnb.price.cummin()"
   ]
  },
  {
   "cell_type": "code",
   "execution_count": 19,
   "id": "9aade8d4",
   "metadata": {},
   "outputs": [
    {
     "data": {
      "text/plain": [
       "0         49\n",
       "1        106\n",
       "2        134\n",
       "3        134\n",
       "4        134\n",
       "        ... \n",
       "5727    8812\n",
       "5728    8812\n",
       "5729    8812\n",
       "5730    8812\n",
       "5731    8812\n",
       "Name: price, Length: 5732, dtype: int64"
      ]
     },
     "execution_count": 19,
     "metadata": {},
     "output_type": "execute_result"
    }
   ],
   "source": [
    "airbnb.price.cummax()"
   ]
  },
  {
   "cell_type": "code",
   "execution_count": 20,
   "id": "874cdcdb",
   "metadata": {},
   "outputs": [
    {
     "data": {
      "text/plain": [
       "0               49\n",
       "1             5194\n",
       "2           695996\n",
       "3         52199700\n",
       "4       2870983500\n",
       "           ...    \n",
       "5727             0\n",
       "5728             0\n",
       "5729             0\n",
       "5730             0\n",
       "5731             0\n",
       "Name: price, Length: 5732, dtype: int64"
      ]
     },
     "execution_count": 20,
     "metadata": {},
     "output_type": "execute_result"
    }
   ],
   "source": [
    "#cummulative product(multiplication)\n",
    "airbnb.price.cumprod()"
   ]
  },
  {
   "cell_type": "code",
   "execution_count": null,
   "id": "57a7f130",
   "metadata": {},
   "outputs": [],
   "source": [
    "#enables to delete the duplicate rows of the selected column\n",
    "airbnb.drop_duplicates(subset=['price', 'room_type', '....'])\n",
    "#stock in 'holiday_dates' var the sales from'is_holiday' column deleting dupplicates of date \n",
    "holiday_dates = sales[sales['is_holiday']].drop_duplicates(subset='date')"
   ]
  },
  {
   "cell_type": "code",
   "execution_count": null,
   "id": "a81c6f57",
   "metadata": {},
   "outputs": [],
   "source": [
    "airbnb['room_type'].value_counts()\n",
    "airbnb['room_type'].value_counts(sort=True)\n",
    "#to turn counts into proportions of the total:\n",
    "airbnb['room_type'].value_counts(normalize=True)\n"
   ]
  },
  {
   "cell_type": "code",
   "execution_count": 39,
   "id": "02552b1f",
   "metadata": {},
   "outputs": [
    {
     "data": {
      "text/html": [
       "<div>\n",
       "<style scoped>\n",
       "    .dataframe tbody tr th:only-of-type {\n",
       "        vertical-align: middle;\n",
       "    }\n",
       "\n",
       "    .dataframe tbody tr th {\n",
       "        vertical-align: top;\n",
       "    }\n",
       "\n",
       "    .dataframe thead tr th {\n",
       "        text-align: left;\n",
       "    }\n",
       "\n",
       "    .dataframe thead tr:last-of-type th {\n",
       "        text-align: right;\n",
       "    }\n",
       "</style>\n",
       "<table border=\"1\" class=\"dataframe\">\n",
       "  <thead>\n",
       "    <tr>\n",
       "      <th></th>\n",
       "      <th></th>\n",
       "      <th colspan=\"3\" halign=\"left\">price</th>\n",
       "      <th colspan=\"3\" halign=\"left\">number_of_reviews</th>\n",
       "    </tr>\n",
       "    <tr>\n",
       "      <th></th>\n",
       "      <th></th>\n",
       "      <th>min</th>\n",
       "      <th>max</th>\n",
       "      <th>mean</th>\n",
       "      <th>min</th>\n",
       "      <th>max</th>\n",
       "      <th>mean</th>\n",
       "    </tr>\n",
       "    <tr>\n",
       "      <th>room_type</th>\n",
       "      <th>last_review</th>\n",
       "      <th></th>\n",
       "      <th></th>\n",
       "      <th></th>\n",
       "      <th></th>\n",
       "      <th></th>\n",
       "      <th></th>\n",
       "    </tr>\n",
       "  </thead>\n",
       "  <tbody>\n",
       "    <tr>\n",
       "      <th rowspan=\"5\" valign=\"top\">Entire home/apt</th>\n",
       "      <th>2014-01-04</th>\n",
       "      <td>115</td>\n",
       "      <td>115</td>\n",
       "      <td>115.0</td>\n",
       "      <td>3</td>\n",
       "      <td>3</td>\n",
       "      <td>3.0</td>\n",
       "    </tr>\n",
       "    <tr>\n",
       "      <th>2015-01-03</th>\n",
       "      <td>189</td>\n",
       "      <td>189</td>\n",
       "      <td>189.0</td>\n",
       "      <td>1</td>\n",
       "      <td>1</td>\n",
       "      <td>1.0</td>\n",
       "    </tr>\n",
       "    <tr>\n",
       "      <th>2015-02-08</th>\n",
       "      <td>78</td>\n",
       "      <td>78</td>\n",
       "      <td>78.0</td>\n",
       "      <td>1</td>\n",
       "      <td>1</td>\n",
       "      <td>1.0</td>\n",
       "    </tr>\n",
       "    <tr>\n",
       "      <th>2015-05-06</th>\n",
       "      <td>150</td>\n",
       "      <td>150</td>\n",
       "      <td>150.0</td>\n",
       "      <td>1</td>\n",
       "      <td>1</td>\n",
       "      <td>1.0</td>\n",
       "    </tr>\n",
       "    <tr>\n",
       "      <th>2015-07-08</th>\n",
       "      <td>150</td>\n",
       "      <td>150</td>\n",
       "      <td>150.0</td>\n",
       "      <td>10</td>\n",
       "      <td>10</td>\n",
       "      <td>10.0</td>\n",
       "    </tr>\n",
       "    <tr>\n",
       "      <th>...</th>\n",
       "      <th>...</th>\n",
       "      <td>...</td>\n",
       "      <td>...</td>\n",
       "      <td>...</td>\n",
       "      <td>...</td>\n",
       "      <td>...</td>\n",
       "      <td>...</td>\n",
       "    </tr>\n",
       "    <tr>\n",
       "      <th rowspan=\"5\" valign=\"top\">Shared room</th>\n",
       "      <th>2021-11-14</th>\n",
       "      <td>60</td>\n",
       "      <td>62</td>\n",
       "      <td>61.0</td>\n",
       "      <td>26</td>\n",
       "      <td>36</td>\n",
       "      <td>31.0</td>\n",
       "    </tr>\n",
       "    <tr>\n",
       "      <th>2021-11-21</th>\n",
       "      <td>80</td>\n",
       "      <td>80</td>\n",
       "      <td>80.0</td>\n",
       "      <td>306</td>\n",
       "      <td>306</td>\n",
       "      <td>306.0</td>\n",
       "    </tr>\n",
       "    <tr>\n",
       "      <th>2022-02-02</th>\n",
       "      <td>31</td>\n",
       "      <td>31</td>\n",
       "      <td>31.0</td>\n",
       "      <td>8</td>\n",
       "      <td>8</td>\n",
       "      <td>8.0</td>\n",
       "    </tr>\n",
       "    <tr>\n",
       "      <th>2022-02-14</th>\n",
       "      <td>34</td>\n",
       "      <td>34</td>\n",
       "      <td>34.0</td>\n",
       "      <td>95</td>\n",
       "      <td>95</td>\n",
       "      <td>95.0</td>\n",
       "    </tr>\n",
       "    <tr>\n",
       "      <th>2022-02-20</th>\n",
       "      <td>34</td>\n",
       "      <td>34</td>\n",
       "      <td>34.0</td>\n",
       "      <td>898</td>\n",
       "      <td>898</td>\n",
       "      <td>898.0</td>\n",
       "    </tr>\n",
       "  </tbody>\n",
       "</table>\n",
       "<p>1312 rows × 6 columns</p>\n",
       "</div>"
      ],
      "text/plain": [
       "                            price             number_of_reviews            \n",
       "                              min  max   mean               min  max   mean\n",
       "room_type       last_review                                                \n",
       "Entire home/apt 2014-01-04    115  115  115.0                 3    3    3.0\n",
       "                2015-01-03    189  189  189.0                 1    1    1.0\n",
       "                2015-02-08     78   78   78.0                 1    1    1.0\n",
       "                2015-05-06    150  150  150.0                 1    1    1.0\n",
       "                2015-07-08    150  150  150.0                10   10   10.0\n",
       "...                           ...  ...    ...               ...  ...    ...\n",
       "Shared room     2021-11-14     60   62   61.0                26   36   31.0\n",
       "                2021-11-21     80   80   80.0               306  306  306.0\n",
       "                2022-02-02     31   31   31.0                 8    8    8.0\n",
       "                2022-02-14     34   34   34.0                95   95   95.0\n",
       "                2022-02-20     34   34   34.0               898  898  898.0\n",
       "\n",
       "[1312 rows x 6 columns]"
      ]
     },
     "execution_count": 39,
     "metadata": {},
     "output_type": "execute_result"
    }
   ],
   "source": [
    "#set a condition on the rows you wanna calculate an attribute(column):\n",
    "airbnb[airbnb['room_type']=='Hotel room']['price'].max()\n",
    "airbnb[airbnb['room_type']=='Hotel room']['price'].mean()\n",
    "#easier:\n",
    "airbnb.groupby('room_type')['price'].max()\n",
    "airbnb.groupby('room_type')['price'].mean()\n",
    "airbnb.groupby('room_type')['price'].agg(['max', 'mean', 'min'])\n",
    "airbnb.groupby(['room_type','last_review'])[['price','number_of_reviews']].agg(['min', \"max\", 'mean'])"
   ]
  },
  {
   "cell_type": "code",
   "execution_count": null,
   "id": "74b9f8c6",
   "metadata": {},
   "outputs": [],
   "source": [
    "# Calc total weekly sales\n",
    "sales_all = sales[\"weekly_sales\"].sum()\n",
    "\n",
    "# Subset for type A stores, calc total weekly sales\n",
    "sales_A = sales[sales[\"type\"] == \"A\"][\"weekly_sales\"].sum()\n",
    "\n",
    "# Subset for type B stores, calc total weekly sales\n",
    "sales_B = sales[sales['type']==\"B\"][\"weekly_sales\"].sum()\n",
    "\n",
    "# Subset for type C stores, calc total weekly sales\n",
    "sales_C = sales[sales['type']=='C']['weekly_sales'].sum()\n",
    "\n",
    "# Get proportion for each type\n",
    "sales_propn_by_type = [sales_A, sales_B, sales_C] / sales_all\n",
    "print(sales_propn_by_type)"
   ]
  },
  {
   "cell_type": "code",
   "execution_count": null,
   "id": "b8605757",
   "metadata": {},
   "outputs": [],
   "source": [
    "#create pivot table:\n"
   ]
  }
 ],
 "metadata": {
  "kernelspec": {
   "display_name": "Python 3 (ipykernel)",
   "language": "python",
   "name": "python3"
  },
  "language_info": {
   "codemirror_mode": {
    "name": "ipython",
    "version": 3
   },
   "file_extension": ".py",
   "mimetype": "text/x-python",
   "name": "python",
   "nbconvert_exporter": "python",
   "pygments_lexer": "ipython3",
   "version": "3.9.12"
  }
 },
 "nbformat": 4,
 "nbformat_minor": 5
}
