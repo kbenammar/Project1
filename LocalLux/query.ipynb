{
  "nbformat": 4,
  "nbformat_minor": 0,
  "metadata": {
    "colab": {
      "name": "query.ipynb",
      "provenance": [],
      "collapsed_sections": []
    },
    "kernelspec": {
      "name": "python3",
      "display_name": "Python 3"
    },
    "language_info": {
      "name": "python"
    }
  },
  "cells": [
    {
      "cell_type": "code",
      "execution_count": 3,
      "metadata": {
        "colab": {
          "base_uri": "https://localhost:8080/",
          "height": 356
        },
        "id": "ZziagSqENqpY",
        "outputId": "28fdd6c4-5243-429b-a170-4e2992d5c29e"
      },
      "outputs": [
        {
          "output_type": "error",
          "ename": "ModuleNotFoundError",
          "evalue": "ignored",
          "traceback": [
            "\u001b[0;31m---------------------------------------------------------------------------\u001b[0m",
            "\u001b[0;31mModuleNotFoundError\u001b[0m                       Traceback (most recent call last)",
            "\u001b[0;32m<ipython-input-3-2f79fb1deb14>\u001b[0m in \u001b[0;36m<module>\u001b[0;34m()\u001b[0m\n\u001b[1;32m      2\u001b[0m \u001b[0;32mfrom\u001b[0m \u001b[0msqlalchemy\u001b[0m \u001b[0;32mimport\u001b[0m \u001b[0mcreate_engine\u001b[0m\u001b[0;34m\u001b[0m\u001b[0;34m\u001b[0m\u001b[0m\n\u001b[1;32m      3\u001b[0m \u001b[0;32mimport\u001b[0m \u001b[0mdatetime\u001b[0m\u001b[0;34m\u001b[0m\u001b[0;34m\u001b[0m\u001b[0m\n\u001b[0;32m----> 4\u001b[0;31m \u001b[0;32mfrom\u001b[0m \u001b[0mbase_models\u001b[0m\u001b[0;34m.\u001b[0m\u001b[0mipynb\u001b[0m \u001b[0;32mimport\u001b[0m \u001b[0mTSL\u001b[0m\u001b[0;34m,\u001b[0m \u001b[0mVEML\u001b[0m\u001b[0;34m,\u001b[0m \u001b[0mBase\u001b[0m\u001b[0;34m\u001b[0m\u001b[0;34m\u001b[0m\u001b[0m\n\u001b[0m\u001b[1;32m      5\u001b[0m \u001b[0;32mfrom\u001b[0m \u001b[0msqlalchemy\u001b[0m\u001b[0;34m.\u001b[0m\u001b[0morm\u001b[0m \u001b[0;32mimport\u001b[0m \u001b[0mSession\u001b[0m\u001b[0;34m\u001b[0m\u001b[0;34m\u001b[0m\u001b[0m\n",
            "\u001b[0;31mModuleNotFoundError\u001b[0m: No module named 'base_models'",
            "",
            "\u001b[0;31m---------------------------------------------------------------------------\u001b[0;32m\nNOTE: If your import is failing due to a missing package, you can\nmanually install dependencies using either !pip or !apt.\n\nTo view examples of installing some common dependencies, click the\n\"Open Examples\" button below.\n\u001b[0;31m---------------------------------------------------------------------------\u001b[0m\n"
          ],
          "errorDetails": {
            "actions": [
              {
                "action": "open_url",
                "actionText": "Open Examples",
                "url": "/notebooks/snippets/importing_libraries.ipynb"
              }
            ]
          }
        }
      ],
      "source": [
        "import sqlalchemy\n",
        "from sqlalchemy import create_engine\n",
        "import datetime\n",
        "from base_models import TSL, VEML, Base\n",
        "from sqlalchemy.orm import Session"
      ]
    },
    {
      "cell_type": "code",
      "source": [
        "def establish_connection(db_filename):\n",
        "    ### set up sqlalchemy connection to sqllite dateabase\n",
        "    engine = create_engine(f'sqlite:///{db_filename}.sqlite')\n",
        "    conn = engine.connect()\n",
        "    Base.metadata.create_all(conn)\n",
        "    session = Session(bind=engine)\n",
        "    return session\n",
        "\n",
        "def query_table(table_cls):\n",
        "    table = session.query(table_cls)\n",
        "    return table"
      ],
      "metadata": {
        "id": "44bT4wAiN0sO"
      },
      "execution_count": null,
      "outputs": []
    },
    {
      "cell_type": "code",
      "source": [
        "# session=establish_connection(\"lux_measuresVEML\")\n",
        "# veml_table=query_table(VEML)\n",
        "\n",
        "# for row in veml_table:\n",
        "#     print(row.id)\n",
        "#     print(row.date)\n",
        "#     print(row.mean_lux)\n",
        "#     print(row.mean_light)"
      ],
      "metadata": {
        "id": "YCWjvAXSN4NU"
      },
      "execution_count": null,
      "outputs": []
    },
    {
      "cell_type": "code",
      "source": [
        "# session=establish_connection(\"lux_measuresTSL\")\n",
        "# tsl_table=query_table(TSL)\n",
        "\n",
        "\n",
        "# for row in tsl_table:\n",
        "#     print(row.id)\n",
        "#     print(row.date)\n",
        "#     print(row.mean_lux)\n",
        "#     print(row.mean_visible )"
      ],
      "metadata": {
        "id": "hSODMhVwODNe"
      },
      "execution_count": null,
      "outputs": []
    }
  ]
}