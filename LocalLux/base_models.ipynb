{
 "cells": [
  {
   "cell_type": "code",
   "execution_count": 1,
   "metadata": {
    "id": "YPvc4nL-My6K"
   },
   "outputs": [],
   "source": [
    "import sqlalchemy as db\n",
    "from sqlalchemy import create_engine"
   ]
  },
  {
   "cell_type": "code",
   "execution_count": 2,
   "metadata": {
    "id": "t0dydxolNGbw"
   },
   "outputs": [],
   "source": [
    "from sqlalchemy.ext.declarative import declarative_base\n",
    "Base = declarative_base()"
   ]
  },
  {
   "cell_type": "code",
   "execution_count": 3,
   "metadata": {
    "id": "AgP7os8CNG2_"
   },
   "outputs": [],
   "source": [
    "# Import modules to declare columns and column data types\n",
    "from sqlalchemy import Column, Integer, DateTime, String, Float"
   ]
  },
  {
   "cell_type": "code",
   "execution_count": 4,
   "metadata": {
    "id": "yAgoLfXDNNQq"
   },
   "outputs": [],
   "source": [
    "### Data Model\n",
    "\n",
    "class VEML(Base):\n",
    "    __tablename__ = 'veml'\n",
    "    id = Column(Integer, primary_key=True)\n",
    "    date = Column(DateTime)\n",
    "    mean_lux = Column(Float)\n",
    "    min_lux = Column(Float)\n",
    "    max_lux = Column(Float)\n",
    "    variance_lux = Column(Float)\n",
    "    mean_light = Column(Float)\n",
    "    min_light = Column (Integer)\n",
    "    max_light = Column(Integer)\n",
    "    variance_light = Column(Float)\n",
    "\n",
    "class TSL(Base):\n",
    "    __tablename__ = 'tsl'\n",
    "    id = Column(Integer, primary_key=True)\n",
    "    date = Column(DateTime)\n",
    "    mean_lux = Column(Float)\n",
    "    min_lux = Column(Float)\n",
    "    max_lux = Column(Float)\n",
    "    variance_lux = Column(Float)\n",
    "    mean_visible = Column(Float)\n",
    "    min_visible = Column(Integer)\n",
    "    max_visible = Column(Integer)\n",
    "    variance_visible = Column(Float)"
   ]
  }
 ],
 "metadata": {
  "colab": {
   "collapsed_sections": [],
   "name": "base_models.ipynb",
   "provenance": []
  },
  "kernelspec": {
   "display_name": "Python 3 (ipykernel)",
   "language": "python",
   "name": "python3"
  },
  "language_info": {
   "codemirror_mode": {
    "name": "ipython",
    "version": 3
   },
   "file_extension": ".py",
   "mimetype": "text/x-python",
   "name": "python",
   "nbconvert_exporter": "python",
   "pygments_lexer": "ipython3",
   "version": "3.9.12"
  }
 },
 "nbformat": 4,
 "nbformat_minor": 4
}
