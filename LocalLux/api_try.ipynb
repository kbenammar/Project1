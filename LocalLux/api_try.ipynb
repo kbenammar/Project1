{
  "nbformat": 4,
  "nbformat_minor": 0,
  "metadata": {
    "colab": {
      "name": "api_try.ipynb",
      "provenance": [],
      "collapsed_sections": []
    },
    "kernelspec": {
      "name": "python3",
      "display_name": "Python 3"
    },
    "language_info": {
      "name": "python"
    }
  },
  "cells": [
    {
      "cell_type": "markdown",
      "source": [
        "API stands for Application Programming Interface. In the context of APIs, the word Application refers to any software with a distinct function. Interface can be thought of as a contract of service between two applications. This contract defines how the two communicate with each other using requests and responses. \n",
        "\n",
        "\"a way for two or more computer programs to communicate with each other\""
      ],
      "metadata": {
        "id": "jSUd43HmufKt"
      }
    },
    {
      "cell_type": "markdown",
      "source": [
        "### go to https://openweathermap.org/api and sign up for a free account ###\n",
        "\n",
        "-create config.py with api_key = \"your api key\""
      ],
      "metadata": {
        "id": "kjTq9ZyaTgWB"
      }
    },
    {
      "cell_type": "code",
      "execution_count": null,
      "metadata": {
        "colab": {
          "base_uri": "https://localhost:8080/"
        },
        "id": "Pz0uw6rATdaf",
        "outputId": "390ce1b7-587e-4610-f787-3c49cd3c53e3"
      },
      "outputs": [
        {
          "output_type": "stream",
          "name": "stdout",
          "text": [
            "83f8ee3be6925b79c47cafd7ee1c319a\n"
          ]
        }
      ],
      "source": [
        "from config import api_key\n",
        "\n",
        "import requests\n",
        "import json\n",
        "\n",
        "print(api_key)"
      ]
    },
    {
      "cell_type": "code",
      "source": [
        "base_url = 'https://api.openweathermap.org/data/2.5/weather?'\n",
        "\n",
        "# Print the response object to the console\n",
        "print(requests.get(base_url))"
      ],
      "metadata": {
        "colab": {
          "base_uri": "https://localhost:8080/"
        },
        "id": "5uD_KJo2UeP3",
        "outputId": "4168e9ef-afad-4114-de64-4e012888007b"
      },
      "execution_count": null,
      "outputs": [
        {
          "output_type": "stream",
          "name": "stdout",
          "text": [
            "<Response [401]>\n"
          ]
        }
      ]
    },
    {
      "cell_type": "code",
      "source": [
        "# what is a 401 response? \n",
        "\n",
        "print(requests.get(base_url).json())"
      ],
      "metadata": {
        "colab": {
          "base_uri": "https://localhost:8080/"
        },
        "id": "u5TKXzTdVHNA",
        "outputId": "2671a8f9-4616-4cd6-e57d-864005fd8f66"
      },
      "execution_count": null,
      "outputs": [
        {
          "output_type": "stream",
          "name": "stdout",
          "text": [
            "{'cod': 401, 'message': 'Invalid API key. Please see http://openweathermap.org/faq#error401 for more info.'}\n"
          ]
        }
      ]
    },
    {
      "cell_type": "code",
      "source": [
        "# we want a 200 response so we need to feed an api key\n",
        "\n",
        "new_url = base_url + \"appid=\" + api_key \n",
        "print(requests.get(new_url))\n",
        "print(requests.get(new_url).json())"
      ],
      "metadata": {
        "colab": {
          "base_uri": "https://localhost:8080/"
        },
        "id": "RFHwivI9VRmI",
        "outputId": "04fd86d2-9db5-4d93-c6a4-046933f856c5"
      },
      "execution_count": null,
      "outputs": [
        {
          "output_type": "stream",
          "name": "stdout",
          "text": [
            "<Response [400]>\n",
            "{'cod': '400', 'message': 'Nothing to geocode'}\n"
          ]
        }
      ]
    },
    {
      "cell_type": "code",
      "source": [
        "# we got a 400 response... the api connection is good now but it doesn't know what to search for!\n",
        "# let's check the docs to see what our options are https://openweathermap.org/current\n",
        "# How bout we use the built in geocoder and feed a query(q)\n",
        "\n",
        "#https://api.openweathermap.org/data/2.5/weather?q={city name}&appid={API key}"
      ],
      "metadata": {
        "id": "zitoniBjZCMm"
      },
      "execution_count": null,
      "outputs": []
    },
    {
      "cell_type": "code",
      "source": [
        "# let's check out results for Chicago \n",
        "\n",
        "city = \"Chicago\"\n",
        "\n",
        "query_url = base_url + \"q=\" + city + \"&appid=\" + api_key \n",
        "\n",
        "results = requests.get(query_url)\n",
        "print(query_url)\n",
        "print(results)\n",
        "print(results.json())"
      ],
      "metadata": {
        "colab": {
          "base_uri": "https://localhost:8080/"
        },
        "id": "kf626peQYsoG",
        "outputId": "d83620b8-5bc3-4e5e-96d4-6ae2eeb218d9"
      },
      "execution_count": null,
      "outputs": [
        {
          "output_type": "stream",
          "name": "stdout",
          "text": [
            "https://api.openweathermap.org/data/2.5/weather?q=Chicago&appid=83f8ee3be6925b79c47cafd7ee1c319a\n",
            "<Response [200]>\n",
            "{'coord': {'lon': -87.65, 'lat': 41.85}, 'weather': [{'id': 800, 'main': 'Clear', 'description': 'clear sky', 'icon': '01d'}], 'base': 'stations', 'main': {'temp': 302.25, 'feels_like': 302.05, 'temp_min': 300.51, 'temp_max': 303.29, 'pressure': 1012, 'humidity': 42}, 'visibility': 10000, 'wind': {'speed': 3.58, 'deg': 288, 'gust': 4.47}, 'clouds': {'all': 0}, 'dt': 1657652425, 'sys': {'type': 2, 'id': 2005153, 'country': 'US', 'sunrise': 1657621575, 'sunset': 1657675548}, 'timezone': -18000, 'id': 4887398, 'name': 'Chicago', 'cod': 200}\n"
          ]
        }
      ]
    },
    {
      "cell_type": "code",
      "source": [
        "# Notice the results are in json format and it's ugly. Let's make it pretty\n",
        "# I like to use the library pprint to help \"pretty print\" the json\n",
        "\n",
        "from pprint import pprint\n",
        "\n",
        "pprint(results.json())"
      ],
      "metadata": {
        "colab": {
          "base_uri": "https://localhost:8080/"
        },
        "id": "4eb7xRBnY4kT",
        "outputId": "7fa6975b-e53d-4ebf-b8fa-6ce0b420372d"
      },
      "execution_count": null,
      "outputs": [
        {
          "output_type": "stream",
          "name": "stdout",
          "text": [
            "{'base': 'stations',\n",
            " 'clouds': {'all': 0},\n",
            " 'cod': 200,\n",
            " 'coord': {'lat': 41.85, 'lon': -87.65},\n",
            " 'dt': 1657652425,\n",
            " 'id': 4887398,\n",
            " 'main': {'feels_like': 302.05,\n",
            "          'humidity': 42,\n",
            "          'pressure': 1012,\n",
            "          'temp': 302.25,\n",
            "          'temp_max': 303.29,\n",
            "          'temp_min': 300.51},\n",
            " 'name': 'Chicago',\n",
            " 'sys': {'country': 'US',\n",
            "         'id': 2005153,\n",
            "         'sunrise': 1657621575,\n",
            "         'sunset': 1657675548,\n",
            "         'type': 2},\n",
            " 'timezone': -18000,\n",
            " 'visibility': 10000,\n",
            " 'weather': [{'description': 'clear sky',\n",
            "              'icon': '01d',\n",
            "              'id': 800,\n",
            "              'main': 'Clear'}],\n",
            " 'wind': {'deg': 288, 'gust': 4.47, 'speed': 3.58}}\n"
          ]
        }
      ]
    },
    {
      "cell_type": "code",
      "source": [
        "# ahha! much better. How do you access the temperature value above?\n",
        "\n",
        "json_results = results.json()\n",
        "\n",
        "json_results[\"main\"][\"temp\"]"
      ],
      "metadata": {
        "colab": {
          "base_uri": "https://localhost:8080/"
        },
        "id": "zNonsK4Qaj3l",
        "outputId": "60a8b5c9-0958-4376-c84d-3ea46f3a80ae"
      },
      "execution_count": null,
      "outputs": [
        {
          "output_type": "execute_result",
          "data": {
            "text/plain": [
              "300.28"
            ]
          },
          "metadata": {},
          "execution_count": 19
        }
      ]
    },
    {
      "cell_type": "code",
      "source": [
        "json_results[\"weather\"][0][\"icon\"]"
      ],
      "metadata": {
        "colab": {
          "base_uri": "https://localhost:8080/",
          "height": 35
        },
        "id": "3qAy8FZ-1PiA",
        "outputId": "e36fd318-faa5-4ce6-cb78-9ba62a36bcee"
      },
      "execution_count": null,
      "outputs": [
        {
          "output_type": "execute_result",
          "data": {
            "text/plain": [
              "'02d'"
            ],
            "application/vnd.google.colaboratory.intrinsic+json": {
              "type": "string"
            }
          },
          "metadata": {},
          "execution_count": 68
        }
      ]
    },
    {
      "cell_type": "code",
      "source": [
        "# whoa what is that temperature measured in? Is this the sun!!!\n",
        "# nope turns out it's kelvin, let's work in something we are more comfortable with\n",
        "\n",
        "preferred_unit= \"metric\"\n",
        "\n",
        "metric_units_query = base_url + \"q=\" + city + \"&units=\" + preferred_unit + \"&appid=\" + api_key \n",
        "\n",
        "results = requests.get(metric_units_query).json()\n",
        "\n",
        "results[\"main\"][\"temp\"]"
      ],
      "metadata": {
        "colab": {
          "base_uri": "https://localhost:8080/"
        },
        "id": "1aU4dbESa2EV",
        "outputId": "588ddba2-b1aa-4280-9667-1322d2a9a424"
      },
      "execution_count": null,
      "outputs": [
        {
          "output_type": "execute_result",
          "data": {
            "text/plain": [
              "27.48"
            ]
          },
          "metadata": {},
          "execution_count": 21
        }
      ]
    },
    {
      "cell_type": "code",
      "source": [
        "#that's better. Let's see if that differs from the response where we query the lat lon of the merchandise mart\n",
        "\n",
        "# https://api.openweathermap.org/data/2.5/weather?lat={lat}&lon={lon}&appid={API key}\n",
        "\n",
        "# mart is at 41.8881° N, 87.6353° W\n",
        "\n",
        "merchandise_mart_ll = (41.8881, 87.6353)\n",
        "lat = merchandise_mart_ll[0]\n",
        "lon = merchandise_mart_ll[1]\n",
        "\n",
        "lat_long_query = f\"https://api.openweathermap.org/data/2.5/weather?lat={lat}&lon={lon}&appid={api_key}\"\n",
        "results = requests.get(metric_units_query).json()\n",
        "\n",
        "pprint(results)"
      ],
      "metadata": {
        "colab": {
          "base_uri": "https://localhost:8080/"
        },
        "id": "vFALMV-mb6xs",
        "outputId": "815cb292-9305-4796-fa99-c09577af467b"
      },
      "execution_count": null,
      "outputs": [
        {
          "output_type": "stream",
          "name": "stdout",
          "text": [
            "{'base': 'stations',\n",
            " 'clouds': {'all': 20},\n",
            " 'cod': 200,\n",
            " 'coord': {'lat': 41.85, 'lon': -87.65},\n",
            " 'dt': 1657646233,\n",
            " 'id': 4887398,\n",
            " 'main': {'feels_like': 27.75,\n",
            "          'humidity': 48,\n",
            "          'pressure': 1012,\n",
            "          'temp': 27.48,\n",
            "          'temp_max': 28.47,\n",
            "          'temp_min': 25.65},\n",
            " 'name': 'Chicago',\n",
            " 'sys': {'country': 'US',\n",
            "         'id': 2005153,\n",
            "         'sunrise': 1657621575,\n",
            "         'sunset': 1657675548,\n",
            "         'type': 2},\n",
            " 'timezone': -18000,\n",
            " 'visibility': 10000,\n",
            " 'weather': [{'description': 'few clouds',\n",
            "              'icon': '02d',\n",
            "              'id': 801,\n",
            "              'main': 'Clouds'}],\n",
            " 'wind': {'deg': 300, 'gust': 9.77, 'speed': 4.63}}\n"
          ]
        }
      ]
    },
    {
      "cell_type": "code",
      "source": [
        "from requests.api import request\n",
        "# let's compare 2 cities in a dataframe\n",
        "\n",
        "#https://api.openweathermap.org/data/2.5/weather?q={city name}&appid={API key}\n",
        "\n",
        "def query_city(city):\n",
        "  request_= f\"https://api.openweathermap.org/data/2.5/weather?q={city}&appid={api_key}\"\n",
        "  return requests.get(request_)\n",
        "\n",
        "cities = [\"Chicago\", \"Marseille\"]\n",
        "\n",
        "response_data = [query_city(city).json() for city in cities]\n",
        "\n",
        "print(response_data[0])\n",
        "print(response_data[1])"
      ],
      "metadata": {
        "colab": {
          "base_uri": "https://localhost:8080/"
        },
        "id": "Da0ZEQOxc3o0",
        "outputId": "d95362fe-1a5c-41f3-8e29-e49db9e29911"
      },
      "execution_count": null,
      "outputs": [
        {
          "output_type": "stream",
          "name": "stdout",
          "text": [
            "{'coord': {'lon': -87.65, 'lat': 41.85}, 'weather': [{'id': 801, 'main': 'Clouds', 'description': 'few clouds', 'icon': '02d'}], 'base': 'stations', 'main': {'temp': 301.33, 'feels_like': 301.36, 'temp_min': 299.91, 'temp_max': 302.19, 'pressure': 1012, 'humidity': 45}, 'visibility': 10000, 'wind': {'speed': 5.66, 'deg': 320, 'gust': 11.32}, 'clouds': {'all': 20}, 'dt': 1657649024, 'sys': {'type': 2, 'id': 2005153, 'country': 'US', 'sunrise': 1657621575, 'sunset': 1657675548}, 'timezone': -18000, 'id': 4887398, 'name': 'Chicago', 'cod': 200}\n",
            "{'coord': {'lon': 5.5, 'lat': 43.3333}, 'weather': [{'id': 800, 'main': 'Clear', 'description': 'clear sky', 'icon': '01d'}], 'base': 'stations', 'main': {'temp': 297.66, 'feels_like': 297.55, 'temp_min': 296.57, 'temp_max': 299.61, 'pressure': 1016, 'humidity': 53}, 'visibility': 10000, 'wind': {'speed': 2.24, 'deg': 246, 'gust': 4.02}, 'clouds': {'all': 1}, 'dt': 1657648987, 'sys': {'type': 2, 'id': 80238, 'country': 'FR', 'sunrise': 1657598911, 'sunset': 1657653496}, 'timezone': 7200, 'id': 2995468, 'name': 'Arrondissement de Marseille', 'cod': 200}\n"
          ]
        }
      ]
    },
    {
      "cell_type": "code",
      "source": [
        "# set up dataframe by iterating through the city responses and appending values\n",
        "\n",
        "temp = []\n",
        "lat = []\n",
        "lon = []\n",
        "cloudiness = []\n",
        "\n",
        "for response in response_data:\n",
        "  temp.append(response[\"main\"][\"temp\"])\n",
        "  lat.append(response[\"coord\"][\"lat\"])\n",
        "  lon.append(response[\"coord\"][\"lon\"])\n",
        "  cloudiness.append(response[\"clouds\"][\"all\"])"
      ],
      "metadata": {
        "id": "zhe1pQJ6scCm"
      },
      "execution_count": null,
      "outputs": []
    },
    {
      "cell_type": "code",
      "source": [
        "import pandas as pd\n",
        "weather_df = pd.DataFrame({\n",
        "                            \"temperature\":temp,\n",
        "                            \"lat\":lat,\n",
        "                            \"lon\":lon,\n",
        "                            \"cloudiness\":cloudiness\n",
        "                          },index=cities)\n",
        "\n",
        "weather_df.head()"
      ],
      "metadata": {
        "colab": {
          "base_uri": "https://localhost:8080/",
          "height": 112
        },
        "id": "9_4orWPdsxz8",
        "outputId": "a28d376a-7b80-41af-db74-b82ce554a2fd"
      },
      "execution_count": null,
      "outputs": [
        {
          "output_type": "execute_result",
          "data": {
            "text/plain": [
              "           temperature      lat    lon  cloudiness\n",
              "Chicago         301.33  41.8500 -87.65          20\n",
              "Marseille       297.66  43.3333   5.50           1"
            ],
            "text/html": [
              "\n",
              "  <div id=\"df-a84a6f1a-a191-4fb4-a565-f78cc715cc8c\">\n",
              "    <div class=\"colab-df-container\">\n",
              "      <div>\n",
              "<style scoped>\n",
              "    .dataframe tbody tr th:only-of-type {\n",
              "        vertical-align: middle;\n",
              "    }\n",
              "\n",
              "    .dataframe tbody tr th {\n",
              "        vertical-align: top;\n",
              "    }\n",
              "\n",
              "    .dataframe thead th {\n",
              "        text-align: right;\n",
              "    }\n",
              "</style>\n",
              "<table border=\"1\" class=\"dataframe\">\n",
              "  <thead>\n",
              "    <tr style=\"text-align: right;\">\n",
              "      <th></th>\n",
              "      <th>temperature</th>\n",
              "      <th>lat</th>\n",
              "      <th>lon</th>\n",
              "      <th>cloudiness</th>\n",
              "    </tr>\n",
              "  </thead>\n",
              "  <tbody>\n",
              "    <tr>\n",
              "      <th>Chicago</th>\n",
              "      <td>301.33</td>\n",
              "      <td>41.8500</td>\n",
              "      <td>-87.65</td>\n",
              "      <td>20</td>\n",
              "    </tr>\n",
              "    <tr>\n",
              "      <th>Marseille</th>\n",
              "      <td>297.66</td>\n",
              "      <td>43.3333</td>\n",
              "      <td>5.50</td>\n",
              "      <td>1</td>\n",
              "    </tr>\n",
              "  </tbody>\n",
              "</table>\n",
              "</div>\n",
              "      <button class=\"colab-df-convert\" onclick=\"convertToInteractive('df-a84a6f1a-a191-4fb4-a565-f78cc715cc8c')\"\n",
              "              title=\"Convert this dataframe to an interactive table.\"\n",
              "              style=\"display:none;\">\n",
              "        \n",
              "  <svg xmlns=\"http://www.w3.org/2000/svg\" height=\"24px\"viewBox=\"0 0 24 24\"\n",
              "       width=\"24px\">\n",
              "    <path d=\"M0 0h24v24H0V0z\" fill=\"none\"/>\n",
              "    <path d=\"M18.56 5.44l.94 2.06.94-2.06 2.06-.94-2.06-.94-.94-2.06-.94 2.06-2.06.94zm-11 1L8.5 8.5l.94-2.06 2.06-.94-2.06-.94L8.5 2.5l-.94 2.06-2.06.94zm10 10l.94 2.06.94-2.06 2.06-.94-2.06-.94-.94-2.06-.94 2.06-2.06.94z\"/><path d=\"M17.41 7.96l-1.37-1.37c-.4-.4-.92-.59-1.43-.59-.52 0-1.04.2-1.43.59L10.3 9.45l-7.72 7.72c-.78.78-.78 2.05 0 2.83L4 21.41c.39.39.9.59 1.41.59.51 0 1.02-.2 1.41-.59l7.78-7.78 2.81-2.81c.8-.78.8-2.07 0-2.86zM5.41 20L4 18.59l7.72-7.72 1.47 1.35L5.41 20z\"/>\n",
              "  </svg>\n",
              "      </button>\n",
              "      \n",
              "  <style>\n",
              "    .colab-df-container {\n",
              "      display:flex;\n",
              "      flex-wrap:wrap;\n",
              "      gap: 12px;\n",
              "    }\n",
              "\n",
              "    .colab-df-convert {\n",
              "      background-color: #E8F0FE;\n",
              "      border: none;\n",
              "      border-radius: 50%;\n",
              "      cursor: pointer;\n",
              "      display: none;\n",
              "      fill: #1967D2;\n",
              "      height: 32px;\n",
              "      padding: 0 0 0 0;\n",
              "      width: 32px;\n",
              "    }\n",
              "\n",
              "    .colab-df-convert:hover {\n",
              "      background-color: #E2EBFA;\n",
              "      box-shadow: 0px 1px 2px rgba(60, 64, 67, 0.3), 0px 1px 3px 1px rgba(60, 64, 67, 0.15);\n",
              "      fill: #174EA6;\n",
              "    }\n",
              "\n",
              "    [theme=dark] .colab-df-convert {\n",
              "      background-color: #3B4455;\n",
              "      fill: #D2E3FC;\n",
              "    }\n",
              "\n",
              "    [theme=dark] .colab-df-convert:hover {\n",
              "      background-color: #434B5C;\n",
              "      box-shadow: 0px 1px 3px 1px rgba(0, 0, 0, 0.15);\n",
              "      filter: drop-shadow(0px 1px 2px rgba(0, 0, 0, 0.3));\n",
              "      fill: #FFFFFF;\n",
              "    }\n",
              "  </style>\n",
              "\n",
              "      <script>\n",
              "        const buttonEl =\n",
              "          document.querySelector('#df-a84a6f1a-a191-4fb4-a565-f78cc715cc8c button.colab-df-convert');\n",
              "        buttonEl.style.display =\n",
              "          google.colab.kernel.accessAllowed ? 'block' : 'none';\n",
              "\n",
              "        async function convertToInteractive(key) {\n",
              "          const element = document.querySelector('#df-a84a6f1a-a191-4fb4-a565-f78cc715cc8c');\n",
              "          const dataTable =\n",
              "            await google.colab.kernel.invokeFunction('convertToInteractive',\n",
              "                                                     [key], {});\n",
              "          if (!dataTable) return;\n",
              "\n",
              "          const docLinkHtml = 'Like what you see? Visit the ' +\n",
              "            '<a target=\"_blank\" href=https://colab.research.google.com/notebooks/data_table.ipynb>data table notebook</a>'\n",
              "            + ' to learn more about interactive tables.';\n",
              "          element.innerHTML = '';\n",
              "          dataTable['output_type'] = 'display_data';\n",
              "          await google.colab.output.renderOutput(dataTable, element);\n",
              "          const docLink = document.createElement('div');\n",
              "          docLink.innerHTML = docLinkHtml;\n",
              "          element.appendChild(docLink);\n",
              "        }\n",
              "      </script>\n",
              "    </div>\n",
              "  </div>\n",
              "  "
            ]
          },
          "metadata": {},
          "execution_count": 59
        }
      ]
    }
  ]
}