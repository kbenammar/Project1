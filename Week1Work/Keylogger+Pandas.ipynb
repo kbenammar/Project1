{
 "cells": [
  {
   "cell_type": "code",
   "execution_count": 1,
   "id": "210886d5",
   "metadata": {},
   "outputs": [],
   "source": [
    "import pandas as pd\n"
   ]
  },
  {
   "cell_type": "code",
   "execution_count": 2,
   "id": "5b4ea530",
   "metadata": {},
   "outputs": [],
   "source": [
    "#loading file into dataframe\n",
    "filepath=\"keys2.txt\"\n",
    "df=pd.read_csv(filepath, delimiter=\"|\")\n"
   ]
  },
  {
   "cell_type": "code",
   "execution_count": 3,
   "id": "546d1f98",
   "metadata": {},
   "outputs": [
    {
     "data": {
      "text/html": [
       "<div>\n",
       "<style scoped>\n",
       "    .dataframe tbody tr th:only-of-type {\n",
       "        vertical-align: middle;\n",
       "    }\n",
       "\n",
       "    .dataframe tbody tr th {\n",
       "        vertical-align: top;\n",
       "    }\n",
       "\n",
       "    .dataframe thead th {\n",
       "        text-align: right;\n",
       "    }\n",
       "</style>\n",
       "<table border=\"1\" class=\"dataframe\">\n",
       "  <thead>\n",
       "    <tr style=\"text-align: right;\">\n",
       "      <th></th>\n",
       "      <th>2022-06-14 12:42:53,459</th>\n",
       "      <th>Key.space</th>\n",
       "    </tr>\n",
       "  </thead>\n",
       "  <tbody>\n",
       "    <tr>\n",
       "      <th>0</th>\n",
       "      <td>2022-06-14 12:42:53,922</td>\n",
       "      <td>'t'</td>\n",
       "    </tr>\n",
       "    <tr>\n",
       "      <th>1</th>\n",
       "      <td>2022-06-14 12:42:54,301</td>\n",
       "      <td>'e'</td>\n",
       "    </tr>\n",
       "    <tr>\n",
       "      <th>2</th>\n",
       "      <td>2022-06-14 12:42:54,607</td>\n",
       "      <td>'s'</td>\n",
       "    </tr>\n",
       "    <tr>\n",
       "      <th>3</th>\n",
       "      <td>2022-06-14 12:42:54,752</td>\n",
       "      <td>'t'</td>\n",
       "    </tr>\n",
       "    <tr>\n",
       "      <th>4</th>\n",
       "      <td>2022-06-14 12:42:55,445</td>\n",
       "      <td>Key.space</td>\n",
       "    </tr>\n",
       "  </tbody>\n",
       "</table>\n",
       "</div>"
      ],
      "text/plain": [
       "   2022-06-14 12:42:53,459    Key.space\n",
       "0  2022-06-14 12:42:53,922          't'\n",
       "1  2022-06-14 12:42:54,301          'e'\n",
       "2  2022-06-14 12:42:54,607          's'\n",
       "3  2022-06-14 12:42:54,752          't'\n",
       "4  2022-06-14 12:42:55,445    Key.space"
      ]
     },
     "execution_count": 3,
     "metadata": {},
     "output_type": "execute_result"
    }
   ],
   "source": [
    "df.head()"
   ]
  },
  {
   "cell_type": "code",
   "execution_count": null,
   "id": "77276cda",
   "metadata": {},
   "outputs": [],
   "source": []
  }
 ],
 "metadata": {
  "kernelspec": {
   "display_name": "Python 3 (ipykernel)",
   "language": "python",
   "name": "python3"
  },
  "language_info": {
   "codemirror_mode": {
    "name": "ipython",
    "version": 3
   },
   "file_extension": ".py",
   "mimetype": "text/x-python",
   "name": "python",
   "nbconvert_exporter": "python",
   "pygments_lexer": "ipython3",
   "version": "3.8.3"
  }
 },
 "nbformat": 4,
 "nbformat_minor": 5
}
