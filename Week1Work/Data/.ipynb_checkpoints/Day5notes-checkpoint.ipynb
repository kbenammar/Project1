{
 "cells": [
  {
   "cell_type": "code",
   "execution_count": 2,
   "id": "2a50aab3",
   "metadata": {},
   "outputs": [],
   "source": [
    "###>  python data types and structures  ###"
   ]
  },
  {
   "cell_type": "code",
   "execution_count": 3,
   "id": "13444412",
   "metadata": {},
   "outputs": [
    {
     "data": {
      "text/plain": [
       "'Cookie'"
      ]
     },
     "execution_count": 3,
     "metadata": {},
     "output_type": "execute_result"
    }
   ],
   "source": [
    "str.capitalize('cookie')"
   ]
  },
  {
   "cell_type": "code",
   "execution_count": 4,
   "id": "69ac74a7",
   "metadata": {},
   "outputs": [
    {
     "data": {
      "text/plain": [
       "'cookie'"
      ]
     },
     "execution_count": 4,
     "metadata": {},
     "output_type": "execute_result"
    }
   ],
   "source": [
    "'cookie'"
   ]
  },
  {
   "cell_type": "code",
   "execution_count": null,
   "id": "3b9482f8",
   "metadata": {},
   "outputs": [],
   "source": [
    "#Check whether a string consists of only digits\n",
    "str1 = \"Cake 4 U\"\n",
    "str2 = \"404\"\n",
    "str1.isdigit()\n",
    "\n",
    "#Replace parts of strings with other strings\n",
    "str1.replace('4 U', str2)\n",
    "\n",
    "#Find substrings in other strings; Returns the lowest index or position within the string at which the substring is found:\n",
    "str1 = 'cookie'\n",
    "str2 = 'cook'\n",
    "str1.find(str2)"
   ]
  },
  {
   "cell_type": "code",
   "execution_count": null,
   "id": "bd8acd08",
   "metadata": {},
   "outputs": [],
   "source": [
    "#To check the type of an object in Python, use the built-in type() function, just like in the lines of code below:\n",
    "i = 4.0\n",
    "type(i)\n",
    "float"
   ]
  },
  {
   "cell_type": "code",
   "execution_count": null,
   "id": "c973423f",
   "metadata": {},
   "outputs": [],
   "source": [
    "#Arrays (tableaux) are some sort of lists with only the same type of data in (str,int,float,bool...)\n",
    "import array as arr\n",
    "a = arr.array(\"I\",[3,6,9])\n",
    "type(a)"
   ]
  },
  {
   "cell_type": "code",
   "execution_count": 5,
   "id": "0c8790b5",
   "metadata": {},
   "outputs": [
    {
     "name": "stdout",
     "output_type": "stream",
     "text": [
      "[11, 1, 2, 45, 6, 7, 2, 90, 23, 435]\n"
     ]
    }
   ],
   "source": [
    "#lists\n",
    "list_num = [1,2,45,6,7,2,90,23,435]\n",
    "list_char = ['c','o','o','k','i','e']\n",
    "\n",
    "#Use insert() to insert 11 at index or position 0 in the list_num list\n",
    "list_num.insert(0, 11)\n",
    "print(list_num)"
   ]
  },
  {
   "cell_type": "code",
   "execution_count": 6,
   "id": "0e22d43a",
   "metadata": {},
   "outputs": [
    {
     "name": "stdout",
     "output_type": "stream",
     "text": [
      "['c', 'o', 'k', 'i', 'e']\n"
     ]
    }
   ],
   "source": [
    "#Remove the first occurence of 'o' from list_char with the help of remove()\n",
    "list_char.remove('o') \n",
    "print(list_char)"
   ]
  },
  {
   "cell_type": "code",
   "execution_count": null,
   "id": "4d9cac8e",
   "metadata": {},
   "outputs": [],
   "source": [
    "#Remove the item at index -2 from list_char\n",
    "list_char.pop(-2) # Removes the item at the specified position\n",
    "print(list_char)"
   ]
  },
  {
   "cell_type": "code",
   "execution_count": null,
   "id": "9aa1681d",
   "metadata": {},
   "outputs": [],
   "source": [
    "# In-place sorting\n",
    "list_num.sort()\n",
    "print(list_num)\n",
    "\n",
    "list.reverse(list_num)\n",
    "print(list_num)"
   ]
  },
  {
   "cell_type": "code",
   "execution_count": null,
   "id": "81c012e2",
   "metadata": {},
   "outputs": [],
   "source": [
    "#diff between array and list (arrays need less ressources and easier to manipulate )\n",
    "array_char = array.array(\"u\",[\"c\",\"a\",\"t\",\"s\"])\n",
    "array_char.tostring()\n",
    "print(array_char)\n",
    "array('u', 'cats')\n",
    "# You were able to apply tostring() function of the array_char because Python is aware that all the items in an array are\n",
    "# of the same data type and hence the operation behaves the same way on each element.\n",
    "# Thus, arrays can be very useful when dealing with a large collection of homogeneous data types."
   ]
  },
  {
   "cell_type": "code",
   "execution_count": null,
   "id": "a25258a6",
   "metadata": {},
   "outputs": [],
   "source": [
    "#NumPy arrays:\n",
    "import numpy as np\n",
    "\n",
    "arr_a = np.array([3, 6, 9])\n",
    "arr_b = arr_a/3 # Performing vectorized (element-wise) operations \n",
    "print(arr_b)\n",
    "\n",
    "# Print out memory address\n",
    "print(arr_a.data)\n",
    "\n",
    "# Print out the shape of `arr_a`\n",
    "print(arr_a.shape)\n",
    "\n",
    "# Print out the data type of `arr_a`\n",
    "print(arr_a.dtype)\n",
    "\n",
    "# Print out the stride of `arr_a`\n",
    "print(arr_a.strides)"
   ]
  },
  {
   "cell_type": "code",
   "execution_count": null,
   "id": "f0d579a1",
   "metadata": {},
   "outputs": [],
   "source": [
    "#NumPy's arrays look like matrices\n",
    "arr_ones = np.ones(4)\n",
    "print(arr_ones)\n",
    "[ 1.  1.  1.  1.]\n",
    "\n",
    "multi_arr_ones = np.ones((3,4)) # Creating 2D array with 3 rows and 4 columns\n",
    "print(multi_arr_ones)\n",
    "[[ 1.  1.  1.  1.]\n",
    " [ 1.  1.  1.  1.]\n",
    " [ 1.  1.  1.  1.]]"
   ]
  },
  {
   "cell_type": "code",
   "execution_count": null,
   "id": "6ee20fde",
   "metadata": {},
   "outputs": [],
   "source": [
    "#Stacks are like a pile of plates:\n",
    "# Bottom -> 1 -> 2 -> 3 -> 4 -> 5 (Top)\n",
    "stack = [1,2,3,4,5] \n",
    "stack.append(6) # Bottom -> 1 -> 2 -> 3 -> 4 -> 5 -> 6 (Top)\n",
    "print(stack)\n",
    "[1, 2, 3, 4, 5, 6]\n",
    "\n",
    "stack.pop() # Bottom -> 1 -> 2 -> 3 -> 4 -> 5 (Top)\n",
    "stack.pop() # Bottom -> 1 -> 2 -> 3 -> 4 (Top)\n",
    "print(stack)\n",
    "[1, 2, 3, 4]"
   ]
  },
  {
   "cell_type": "code",
   "execution_count": null,
   "id": "3efd10de",
   "metadata": {},
   "outputs": [],
   "source": [
    "#Queues:\n",
    "#A queue is a container of objects that are inserted and removed according to the First-In-First-Out (FIFO) principle.\n",
    "#An excellent example of a queue in the real world is the line at a ticket counter \n",
    "#where people are catered according to their arrival sequence and hence the person who arrives first is also the first to leave.\n",
    "#Queues can be of many different kinds.\n",
    "\n",
    "#Lists are not efficient to implement a queue, because append() and pop() from the end of a list is not fast and incur a memory movement cost.\n",
    "#Also, insertion at the end and deletion from the beginning of a list is not so fast since it requires a shift in the element positions."
   ]
  },
  {
   "cell_type": "code",
   "execution_count": 7,
   "id": "aa5b180f",
   "metadata": {},
   "outputs": [
    {
     "name": "stdout",
     "output_type": "stream",
     "text": [
      "[('a', 'c'), ('a', 'd'), ('b', 'd'), ('b', 'e'), ('c', 'a'), ('c', 'e'), ('d', 'a'), ('d', 'b'), ('e', 'b'), ('e', 'c')]\n"
     ]
    }
   ],
   "source": [
    "#Graphs\n",
    "# A graph in mathematics and computer science are networks consisting of nodes, also called vertices\n",
    "# which may or may not be connected to each other. The lines or the path that connects two nodes is called an edge.\n",
    "# If the edge has a particular direction of flow, then it is a directed graph, with the direction edge being called an arc.\n",
    "# Else if no directions are specified, the graph is called an undirected graph.\n",
    "\n",
    "# This may sound all very theoretical and can get rather complex when you dig deeper.\n",
    "# However, graphs are an important concept specially in Data Science and are often used to model real life problems.\n",
    "# Social networks, molecular studies in chemistry and biology, maps, recommender system all rely on graph and graph theory principles.\n",
    "\n",
    "# Here, you will find a simple graph implementation using a Python Dictionary to help you get started:\n",
    "\n",
    "graph = { \"a\" : [\"c\", \"d\"],\n",
    "          \"b\" : [\"d\", \"e\"],\n",
    "          \"c\" : [\"a\", \"e\"],\n",
    "          \"d\" : [\"a\", \"b\"],\n",
    "          \"e\" : [\"b\", \"c\"]\n",
    "        }\n",
    "\n",
    "def define_edges(graph):\n",
    "    edges = []\n",
    "    for vertices in graph:\n",
    "        for neighbour in graph[vertices]:\n",
    "            edges.append((vertices, neighbour))\n",
    "    return edges\n",
    "\n",
    "print(define_edges(graph))\n",
    "\n",
    "# You can do some cool stuff with graphs such as trying to find of there exists a path between two nodes,\n",
    "# or finding the shortest path between two nodes, determining cycles in the graph.\n",
    "# The famous \"travelling salesman problem\" is, in fact,\n",
    "# about finding the shortest possible route that visits every node exactly once and returns to the starting point.\n",
    "# Sometimes the nodes or arcs of a graph have been assigned weights or costs,\n",
    "# you can think of this as assigning difficulty level to walk and you are interested in finding the cheapest or the easiest path."
   ]
  },
  {
   "cell_type": "code",
   "execution_count": 8,
   "id": "c487856f",
   "metadata": {},
   "outputs": [
    {
     "name": "stdout",
     "output_type": "stream",
     "text": [
      "1, Left child: 2, Left child: 2.1, Right child: 2.2, Right child: 3, Left child: 3.1, Right child: None\n"
     ]
    }
   ],
   "source": [
    "#Trees:\n",
    "#A tree in the real world is a living being with its roots in the ground and the branches that hold the leaves, fruit out in the open.\n",
    "#The branches of the tree spread out in a somewhat organized way. \n",
    "#In computer science, trees are used to describe how data is sometimes organized, except that the root is on the top and the branches,\n",
    "#leaves follow, spreading towards the bottom and the tree is drawn inverted compared to the real tree.\n",
    "#To introduce a little more notation, the root is always at the top of the tree. \n",
    "#Keeping the tree metaphor, the other nodes that follow are called the branches with the final node in each branch being called leaves.\n",
    "#You can imagine each branch as being a smaller tree in itself. The root is often called the parent and the nodes that it refers to below it called its children. The nodes with the same parent are called siblings. Do you see why this is also called a family tree?\n",
    "#Trees help in defining real world scenarios and are used everywhere from the gaming world to designing XML parsers\n",
    "#and also the PDF design principle is based on trees. In data science, 'Decision Tree based Learning' actually forms a large area of research.\n",
    "#Numerous famous methods exist like bagging, boosting use the tree model to generate a predictive model.\n",
    "#Games like chess build a huge tree with all possible moves to analyse and apply heuristics to decide on an optimal move.\n",
    "#You can implement a tree structure using and combining the various data structures you have seen so far in this tutorial.\n",
    "\n",
    "class Tree:\n",
    "    def __init__(self, info, left=None, right=None):\n",
    "        self.info = info\n",
    "        self.left  = left\n",
    "        self.right = right\n",
    "\n",
    "    def __str__(self):\n",
    "        return (str(self.info) + ', Left child: ' + str(self.left) + ', Right child: ' + str(self.right))\n",
    "\n",
    "tree = Tree(1, Tree(2, 2.1, 2.2), Tree(3, 3.1))\n",
    "print(tree)"
   ]
  },
  {
   "cell_type": "code",
   "execution_count": 9,
   "id": "2a147e88",
   "metadata": {},
   "outputs": [
    {
     "ename": "TypeError",
     "evalue": "'tuple' object does not support item assignment",
     "output_type": "error",
     "traceback": [
      "\u001b[1;31m---------------------------------------------------------------------------\u001b[0m",
      "\u001b[1;31mTypeError\u001b[0m                                 Traceback (most recent call last)",
      "Input \u001b[1;32mIn [9]\u001b[0m, in \u001b[0;36m<cell line: 12>\u001b[1;34m()\u001b[0m\n\u001b[0;32m     10\u001b[0m x_tuple[\u001b[38;5;241m0\u001b[39m]\n\u001b[0;32m     11\u001b[0m y_tuple[\u001b[38;5;241m3\u001b[39m]\n\u001b[1;32m---> 12\u001b[0m x_tuple[\u001b[38;5;241m0\u001b[39m] \u001b[38;5;241m=\u001b[39m \u001b[38;5;241m0\u001b[39m\n",
      "\u001b[1;31mTypeError\u001b[0m: 'tuple' object does not support item assignment"
     ]
    }
   ],
   "source": [
    "#Tuples:\n",
    "# Tuples are another standard sequence data type. The difference between tuples and list is that tuples are immutable,\n",
    "# which means once defined you cannot delete, add or edit any values inside it. \n",
    "# This might be useful in situations where you might to pass the control to someone else but \n",
    "# you do not want them to manipulate data in your collection, \n",
    "# but rather maybe just see them or perform operations separately in a copy of the data.\n",
    "\n",
    "x_tuple = 1,2,3,4,5\n",
    "y_tuple = ('c','a','k','e')\n",
    "x_tuple[0]\n",
    "y_tuple[3]\n",
    "x_tuple[0] = 0 # Cannot change values inside a tuple"
   ]
  },
  {
   "cell_type": "code",
   "execution_count": null,
   "id": "3e99c374",
   "metadata": {},
   "outputs": [],
   "source": [
    "#Dictionnaries:\n",
    "x_dict = {'Edward':1, 'Jorge':2, 'Prem':3, 'Joe':4}\n",
    "del x_dict['Joe']\n",
    "x_dict\n",
    "\n",
    "x_dict['Edward'] # Prints the value stored with the key 'Edward'.\n",
    "x_dict.keys()\n",
    "x_dict.values()"
   ]
  },
  {
   "cell_type": "code",
   "execution_count": null,
   "id": "6ec8bdf7",
   "metadata": {},
   "outputs": [],
   "source": [
    "#Sets:\n",
    "x_set = set('CAKE&COKE')\n",
    "y_set = set('COOKIE')\n",
    "print(x_set)\n",
    "print(y_set) # Single unique 'o'\n",
    "print(x_set|y_set) # Unique elements in x_set or y_set or both\n",
    "print(x_set & y_set) # Elements in both x_set and y_set"
   ]
  },
  {
   "cell_type": "code",
   "execution_count": null,
   "id": "8cd3df57",
   "metadata": {},
   "outputs": [],
   "source": [
    "#Files:\n",
    "# .open() to open files in your system, the filename is the name of the file to be opened;\n",
    "# .read() to read entire files;\n",
    "# .readline() to read one line at a time;\n",
    "# .write() to write a string to a file, and return the number of characters written;\n",
    "# .close() to close the file.\n",
    "\n",
    "# File modes (2nd argument): 'r'(read), 'w'(write), 'a'(appending), 'r+'(both reading and writing)\n",
    "f = open('file_name', 'w')\n",
    "\n",
    "# Reads entire file\n",
    "f.read() \n",
    "\n",
    "# Reads one line at a time\n",
    "f.readline() \n",
    "\n",
    "# Writes the string to the file, returning the number of char written\n",
    "f.write('Add this line.') \n",
    "\n",
    "f.close()\n"
   ]
  },
  {
   "cell_type": "code",
   "execution_count": null,
   "id": "855ecd54",
   "metadata": {},
   "outputs": [],
   "source": []
  }
 ],
 "metadata": {
  "kernelspec": {
   "display_name": "Python 3 (ipykernel)",
   "language": "python",
   "name": "python3"
  },
  "language_info": {
   "codemirror_mode": {
    "name": "ipython",
    "version": 3
   },
   "file_extension": ".py",
   "mimetype": "text/x-python",
   "name": "python",
   "nbconvert_exporter": "python",
   "pygments_lexer": "ipython3",
   "version": "3.8.3"
  }
 },
 "nbformat": 4,
 "nbformat_minor": 5
}
