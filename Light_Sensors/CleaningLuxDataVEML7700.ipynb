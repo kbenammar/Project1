{
 "cells": [
  {
   "cell_type": "code",
   "execution_count": 1,
   "id": "360b7563-ee55-4c40-9c09-844de78ccfe1",
   "metadata": {},
   "outputs": [],
   "source": [
    "# importing libraries :\n",
    "import pandas as pd\n",
    "import numpy as np\n",
    "import datetime\n",
    "import json "
   ]
  },
  {
   "cell_type": "markdown",
   "id": "d45e5c55-3745-49eb-b502-64bac3c41b83",
   "metadata": {},
   "source": [
    "### Cleaning the data ###"
   ]
  },
  {
   "cell_type": "code",
   "execution_count": 2,
   "id": "e439d37b-4b27-43e2-8b75-7ab07d18b34d",
   "metadata": {},
   "outputs": [],
   "source": [
    "# setting file path\n",
    "filepath=\"luxmeasuresVEML7700\""
   ]
  },
  {
   "cell_type": "code",
   "execution_count": 3,
   "id": "30ad2a8c-e9d1-47a7-bf50-48d9b141a5ff",
   "metadata": {},
   "outputs": [],
   "source": [
    "# making a list of the column names\n",
    "column_names=[\"date\",\"mean_lux\",\"min_lux\",\"max_lux\",\"variance_lux\",\"mean_light\",\"min_light\",\"max_light\",\"variance_light\"]"
   ]
  },
  {
   "cell_type": "code",
   "execution_count": 4,
   "id": "f151fb0f-81a8-4eba-8304-70c105af2735",
   "metadata": {},
   "outputs": [],
   "source": [
    "# loadind file into DataFrame\n",
    "df=pd.read_csv(filepath, names=column_names)"
   ]
  },
  {
   "cell_type": "code",
   "execution_count": 5,
   "id": "33438980-8eac-46e1-bff0-860b0e7ccbbe",
   "metadata": {},
   "outputs": [
    {
     "name": "stdout",
     "output_type": "stream",
     "text": [
      "<class 'pandas.core.frame.DataFrame'>\n",
      "RangeIndex: 1289 entries, 0 to 1288\n",
      "Data columns (total 9 columns):\n",
      " #   Column          Non-Null Count  Dtype \n",
      "---  ------          --------------  ----- \n",
      " 0   date            1289 non-null   object\n",
      " 1   mean_lux        1289 non-null   object\n",
      " 2   min_lux         1289 non-null   object\n",
      " 3   max_lux         1289 non-null   object\n",
      " 4   variance_lux    1289 non-null   object\n",
      " 5   mean_light      1289 non-null   object\n",
      " 6   min_light       1289 non-null   object\n",
      " 7   max_light       1289 non-null   object\n",
      " 8   variance_light  1289 non-null   object\n",
      "dtypes: object(9)\n",
      "memory usage: 90.8+ KB\n"
     ]
    }
   ],
   "source": [
    "df.info()"
   ]
  },
  {
   "cell_type": "code",
   "execution_count": 6,
   "id": "7920ef5c-50d3-480a-b270-1ba88edaae4b",
   "metadata": {},
   "outputs": [
    {
     "data": {
      "text/html": [
       "<div>\n",
       "<style scoped>\n",
       "    .dataframe tbody tr th:only-of-type {\n",
       "        vertical-align: middle;\n",
       "    }\n",
       "\n",
       "    .dataframe tbody tr th {\n",
       "        vertical-align: top;\n",
       "    }\n",
       "\n",
       "    .dataframe thead th {\n",
       "        text-align: right;\n",
       "    }\n",
       "</style>\n",
       "<table border=\"1\" class=\"dataframe\">\n",
       "  <thead>\n",
       "    <tr style=\"text-align: right;\">\n",
       "      <th></th>\n",
       "      <th>date</th>\n",
       "      <th>mean_lux</th>\n",
       "      <th>min_lux</th>\n",
       "      <th>max_lux</th>\n",
       "      <th>variance_lux</th>\n",
       "      <th>mean_light</th>\n",
       "      <th>min_light</th>\n",
       "      <th>max_light</th>\n",
       "      <th>variance_light</th>\n",
       "    </tr>\n",
       "  </thead>\n",
       "  <tbody>\n",
       "    <tr>\n",
       "      <th>0</th>\n",
       "      <td>{'date': '30/06/22 | 12:43:25'</td>\n",
       "      <td>'mean_lux': 212.59</td>\n",
       "      <td>'min_lux': 102.41</td>\n",
       "      <td>'max_lux': 322.04</td>\n",
       "      <td>'variance_lux': 5303.87</td>\n",
       "      <td>'mean_light': 3685.12</td>\n",
       "      <td>'min_light': 1778</td>\n",
       "      <td>'max_light': 5591</td>\n",
       "      <td>'variance_light': 1610363.67}</td>\n",
       "    </tr>\n",
       "    <tr>\n",
       "      <th>1</th>\n",
       "      <td>{'date': '30/06/22 | 12:44:25'</td>\n",
       "      <td>'mean_lux': 233.87</td>\n",
       "      <td>'min_lux': 211.33</td>\n",
       "      <td>'max_lux': 255.11</td>\n",
       "      <td>'variance_lux': 143.62</td>\n",
       "      <td>'mean_light': 3872.6</td>\n",
       "      <td>'min_light': 1778</td>\n",
       "      <td>'max_light': 5591</td>\n",
       "      <td>'variance_light': 862008.79}</td>\n",
       "    </tr>\n",
       "    <tr>\n",
       "      <th>2</th>\n",
       "      <td>{'date': '30/06/22 | 12:45:25'</td>\n",
       "      <td>'mean_lux': 239.09</td>\n",
       "      <td>'min_lux': 216.35</td>\n",
       "      <td>'max_lux': 253.32</td>\n",
       "      <td>'variance_lux': 81.59</td>\n",
       "      <td>'mean_light': 3965.39</td>\n",
       "      <td>'min_light': 1778</td>\n",
       "      <td>'max_light': 5591</td>\n",
       "      <td>'variance_light': 600085.65}</td>\n",
       "    </tr>\n",
       "    <tr>\n",
       "      <th>3</th>\n",
       "      <td>{'date': '30/06/22 | 12:46:26'</td>\n",
       "      <td>'mean_lux': 257.25</td>\n",
       "      <td>'min_lux': 250.62</td>\n",
       "      <td>'max_lux': 260.52</td>\n",
       "      <td>'variance_lux': 6.54</td>\n",
       "      <td>'mean_light': 4090.57</td>\n",
       "      <td>'min_light': 1778</td>\n",
       "      <td>'max_light': 5591</td>\n",
       "      <td>'variance_light': 497561.31}</td>\n",
       "    </tr>\n",
       "    <tr>\n",
       "      <th>4</th>\n",
       "      <td>{'date': '30/06/22 | 12:47:26'</td>\n",
       "      <td>'mean_lux': 257.57</td>\n",
       "      <td>'min_lux': 253.9</td>\n",
       "      <td>'max_lux': 260.41</td>\n",
       "      <td>'variance_lux': 3.17</td>\n",
       "      <td>'mean_light': 4166.8</td>\n",
       "      <td>'min_light': 1778</td>\n",
       "      <td>'max_light': 5591</td>\n",
       "      <td>'variance_light': 421486.09}</td>\n",
       "    </tr>\n",
       "  </tbody>\n",
       "</table>\n",
       "</div>"
      ],
      "text/plain": [
       "                             date             mean_lux             min_lux  \\\n",
       "0  {'date': '30/06/22 | 12:43:25'   'mean_lux': 212.59   'min_lux': 102.41   \n",
       "1  {'date': '30/06/22 | 12:44:25'   'mean_lux': 233.87   'min_lux': 211.33   \n",
       "2  {'date': '30/06/22 | 12:45:25'   'mean_lux': 239.09   'min_lux': 216.35   \n",
       "3  {'date': '30/06/22 | 12:46:26'   'mean_lux': 257.25   'min_lux': 250.62   \n",
       "4  {'date': '30/06/22 | 12:47:26'   'mean_lux': 257.57    'min_lux': 253.9   \n",
       "\n",
       "              max_lux              variance_lux              mean_light  \\\n",
       "0   'max_lux': 322.04   'variance_lux': 5303.87   'mean_light': 3685.12   \n",
       "1   'max_lux': 255.11    'variance_lux': 143.62    'mean_light': 3872.6   \n",
       "2   'max_lux': 253.32     'variance_lux': 81.59   'mean_light': 3965.39   \n",
       "3   'max_lux': 260.52      'variance_lux': 6.54   'mean_light': 4090.57   \n",
       "4   'max_lux': 260.41      'variance_lux': 3.17    'mean_light': 4166.8   \n",
       "\n",
       "            min_light           max_light                  variance_light  \n",
       "0   'min_light': 1778   'max_light': 5591   'variance_light': 1610363.67}  \n",
       "1   'min_light': 1778   'max_light': 5591    'variance_light': 862008.79}  \n",
       "2   'min_light': 1778   'max_light': 5591    'variance_light': 600085.65}  \n",
       "3   'min_light': 1778   'max_light': 5591    'variance_light': 497561.31}  \n",
       "4   'min_light': 1778   'max_light': 5591    'variance_light': 421486.09}  "
      ]
     },
     "execution_count": 6,
     "metadata": {},
     "output_type": "execute_result"
    }
   ],
   "source": [
    "df.head()"
   ]
  },
  {
   "cell_type": "code",
   "execution_count": 7,
   "id": "9fb3ad17-69c9-4aab-9672-cc74e0b91f55",
   "metadata": {},
   "outputs": [],
   "source": [
    "for ind,row in df.iterrows():\n",
    "\n",
    "    # case for datetime\n",
    "    #split\n",
    "    date_parts = row[\"date\"].split(\"':\") \n",
    "    #take date part that we want\n",
    "    date = date_parts[1]\n",
    "    #turn into datetime format object\n",
    "    date_ = date.replace(\"|\",\" \")\n",
    "    #replace\n",
    "    row[\"date\"] = date_\n",
    "\n",
    "    # case where no '{' or '}'\n",
    "    # split and take last element in new array \n",
    "    row['mean_lux'] = row['mean_lux'].split(\":\")[1]\n",
    "    row['min_lux'] = row['min_lux'].split(\":\")[1]\n",
    "    row['max_lux'] = row['max_lux'].split(\":\")[1]\n",
    "    row['variance_lux'] = row['variance_lux'].split(\":\")[1]\n",
    "    row['mean_light'] = row['mean_light'].split(\":\")[1]\n",
    "    row['min_light'] = row['min_light'].split(\":\")[1]\n",
    "    row['max_light'] = row['max_light'].split(\":\")[1]\n",
    "    \n",
    "    #case for '}'\n",
    "    #split\n",
    "    variance_parts = row['variance_light'].split(\":\")\n",
    "    #strip\n",
    "    variance = variance_parts[1].strip(\"}\")\n",
    "    #replace\n",
    "    row[\"variance_light\"] = variance"
   ]
  },
  {
   "cell_type": "code",
   "execution_count": 8,
   "id": "7097e767-c003-498f-acd6-e16ce905b75c",
   "metadata": {},
   "outputs": [
    {
     "data": {
      "text/html": [
       "<div>\n",
       "<style scoped>\n",
       "    .dataframe tbody tr th:only-of-type {\n",
       "        vertical-align: middle;\n",
       "    }\n",
       "\n",
       "    .dataframe tbody tr th {\n",
       "        vertical-align: top;\n",
       "    }\n",
       "\n",
       "    .dataframe thead th {\n",
       "        text-align: right;\n",
       "    }\n",
       "</style>\n",
       "<table border=\"1\" class=\"dataframe\">\n",
       "  <thead>\n",
       "    <tr style=\"text-align: right;\">\n",
       "      <th></th>\n",
       "      <th>date</th>\n",
       "      <th>mean_lux</th>\n",
       "      <th>min_lux</th>\n",
       "      <th>max_lux</th>\n",
       "      <th>variance_lux</th>\n",
       "      <th>mean_light</th>\n",
       "      <th>min_light</th>\n",
       "      <th>max_light</th>\n",
       "      <th>variance_light</th>\n",
       "    </tr>\n",
       "  </thead>\n",
       "  <tbody>\n",
       "    <tr>\n",
       "      <th>0</th>\n",
       "      <td>'30/06/22   12:43:25'</td>\n",
       "      <td>212.59</td>\n",
       "      <td>102.41</td>\n",
       "      <td>322.04</td>\n",
       "      <td>5303.87</td>\n",
       "      <td>3685.12</td>\n",
       "      <td>1778</td>\n",
       "      <td>5591</td>\n",
       "      <td>1610363.67</td>\n",
       "    </tr>\n",
       "    <tr>\n",
       "      <th>1</th>\n",
       "      <td>'30/06/22   12:44:25'</td>\n",
       "      <td>233.87</td>\n",
       "      <td>211.33</td>\n",
       "      <td>255.11</td>\n",
       "      <td>143.62</td>\n",
       "      <td>3872.6</td>\n",
       "      <td>1778</td>\n",
       "      <td>5591</td>\n",
       "      <td>862008.79</td>\n",
       "    </tr>\n",
       "    <tr>\n",
       "      <th>2</th>\n",
       "      <td>'30/06/22   12:45:25'</td>\n",
       "      <td>239.09</td>\n",
       "      <td>216.35</td>\n",
       "      <td>253.32</td>\n",
       "      <td>81.59</td>\n",
       "      <td>3965.39</td>\n",
       "      <td>1778</td>\n",
       "      <td>5591</td>\n",
       "      <td>600085.65</td>\n",
       "    </tr>\n",
       "    <tr>\n",
       "      <th>3</th>\n",
       "      <td>'30/06/22   12:46:26'</td>\n",
       "      <td>257.25</td>\n",
       "      <td>250.62</td>\n",
       "      <td>260.52</td>\n",
       "      <td>6.54</td>\n",
       "      <td>4090.57</td>\n",
       "      <td>1778</td>\n",
       "      <td>5591</td>\n",
       "      <td>497561.31</td>\n",
       "    </tr>\n",
       "    <tr>\n",
       "      <th>4</th>\n",
       "      <td>'30/06/22   12:47:26'</td>\n",
       "      <td>257.57</td>\n",
       "      <td>253.9</td>\n",
       "      <td>260.41</td>\n",
       "      <td>3.17</td>\n",
       "      <td>4166.8</td>\n",
       "      <td>1778</td>\n",
       "      <td>5591</td>\n",
       "      <td>421486.09</td>\n",
       "    </tr>\n",
       "  </tbody>\n",
       "</table>\n",
       "</div>"
      ],
      "text/plain": [
       "                     date mean_lux  min_lux  max_lux variance_lux mean_light  \\\n",
       "0   '30/06/22   12:43:25'   212.59   102.41   322.04      5303.87    3685.12   \n",
       "1   '30/06/22   12:44:25'   233.87   211.33   255.11       143.62     3872.6   \n",
       "2   '30/06/22   12:45:25'   239.09   216.35   253.32        81.59    3965.39   \n",
       "3   '30/06/22   12:46:26'   257.25   250.62   260.52         6.54    4090.57   \n",
       "4   '30/06/22   12:47:26'   257.57    253.9   260.41         3.17     4166.8   \n",
       "\n",
       "  min_light max_light variance_light  \n",
       "0      1778      5591     1610363.67  \n",
       "1      1778      5591      862008.79  \n",
       "2      1778      5591      600085.65  \n",
       "3      1778      5591      497561.31  \n",
       "4      1778      5591      421486.09  "
      ]
     },
     "execution_count": 8,
     "metadata": {},
     "output_type": "execute_result"
    }
   ],
   "source": [
    "df.head()"
   ]
  },
  {
   "cell_type": "code",
   "execution_count": 9,
   "id": "79063822-272e-42e6-bf91-d15d41439da4",
   "metadata": {},
   "outputs": [],
   "source": [
    "# converting date and time to datetime type\n",
    "df['date'] = pd.to_datetime(df[\"date\"])"
   ]
  },
  {
   "cell_type": "code",
   "execution_count": 12,
   "id": "a67346bd-8444-488d-adc4-613cd8d2ad34",
   "metadata": {},
   "outputs": [
    {
     "name": "stdout",
     "output_type": "stream",
     "text": [
      "<class 'pandas.core.frame.DataFrame'>\n",
      "RangeIndex: 1289 entries, 0 to 1288\n",
      "Data columns (total 9 columns):\n",
      " #   Column          Non-Null Count  Dtype         \n",
      "---  ------          --------------  -----         \n",
      " 0   date            1289 non-null   datetime64[ns]\n",
      " 1   mean_lux        1289 non-null   object        \n",
      " 2   min_lux         1289 non-null   object        \n",
      " 3   max_lux         1289 non-null   object        \n",
      " 4   variance_lux    1289 non-null   object        \n",
      " 5   mean_light      1289 non-null   object        \n",
      " 6   min_light       1289 non-null   object        \n",
      " 7   max_light       1289 non-null   object        \n",
      " 8   variance_light  1289 non-null   object        \n",
      "dtypes: datetime64[ns](1), object(8)\n",
      "memory usage: 90.8+ KB\n"
     ]
    }
   ],
   "source": [
    "df.info()"
   ]
  },
  {
   "cell_type": "code",
   "execution_count": 11,
   "id": "f63476a3-22ff-49a9-b07a-20be7f7c2bd7",
   "metadata": {},
   "outputs": [],
   "source": [
    "df.to_csv('cleanData_VEML7700.txt')"
   ]
  }
 ],
 "metadata": {
  "kernelspec": {
   "display_name": "Python 3 (ipykernel)",
   "language": "python",
   "name": "python3"
  },
  "language_info": {
   "codemirror_mode": {
    "name": "ipython",
    "version": 3
   },
   "file_extension": ".py",
   "mimetype": "text/x-python",
   "name": "python",
   "nbconvert_exporter": "python",
   "pygments_lexer": "ipython3",
   "version": "3.9.12"
  }
 },
 "nbformat": 4,
 "nbformat_minor": 5
}
