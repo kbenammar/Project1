{
  "nbformat": 4,
  "nbformat_minor": 0,
  "metadata": {
    "colab": {
      "name": "base_models.ipynb",
      "provenance": [],
      "collapsed_sections": []
    },
    "kernelspec": {
      "name": "python3",
      "display_name": "Python 3"
    },
    "language_info": {
      "name": "python"
    }
  },
  "cells": [
    {
      "cell_type": "code",
      "execution_count": 1,
      "metadata": {
        "id": "YPvc4nL-My6K"
      },
      "outputs": [],
      "source": [
        "import sqlalchemy as db\n",
        "from sqlalchemy import create_engine"
      ]
    },
    {
      "cell_type": "code",
      "source": [
        "from sqlalchemy.ext.declarative import declarative_base\n",
        "Base = declarative_base()"
      ],
      "metadata": {
        "id": "t0dydxolNGbw"
      },
      "execution_count": 2,
      "outputs": []
    },
    {
      "cell_type": "code",
      "source": [
        "# Import modules to declare columns and column data types\n",
        "from sqlalchemy import Column, Integer, DateTime, String, Float"
      ],
      "metadata": {
        "id": "AgP7os8CNG2_"
      },
      "execution_count": 3,
      "outputs": []
    },
    {
      "cell_type": "code",
      "source": [
        "### Data Model\n",
        "\n",
        "class VEML(Base):\n",
        "    __tablename__ = 'veml'\n",
        "    id = Column(Integer, primary_key=True)\n",
        "    date = Column(DateTime)\n",
        "    mean_lux = Column(Float)\n",
        "    min_lux = Column(Float)\n",
        "    max_lux = Column(Float)\n",
        "    variance_lux = Column(Float)\n",
        "    mean_light = Column(Float)\n",
        "    min_light = Column (Integer)\n",
        "    max_light = Column(Integer)\n",
        "    variance_light = Column(Float)\n",
        "\n",
        "class TSL(Base):\n",
        "    __tablename__ = 'tsl'\n",
        "    id = Column(Integer, primary_key=True)\n",
        "    date = Column(DateTime)\n",
        "    mean_lux = Column(Float)\n",
        "    min_lux = Column(Float)\n",
        "    max_lux = Column(Float)\n",
        "    variance_lux = Column(Float)\n",
        "    mean_visible = Column(Float)\n",
        "    min_visible = Column(Integer)\n",
        "    max_visible = Column(Integer)\n",
        "    variance_visible = Column(Float)"
      ],
      "metadata": {
        "id": "yAgoLfXDNNQq"
      },
      "execution_count": 4,
      "outputs": []
    }
  ]
}